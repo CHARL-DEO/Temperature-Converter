{
 "cells": [
  {
   "cell_type": "code",
   "execution_count": null,
   "id": "86750158-6f1c-45f4-b288-a70060ea2d0a",
   "metadata": {
    "scrolled": true
   },
   "outputs": [
    {
     "name": "stdout",
     "output_type": "stream",
     "text": [
      "Temperature converter\n",
      "Conversion options\n",
      "1 - Celsius to Kelvin\n",
      "2 - Kelvin to Celsius\n",
      "3 - Celsius to Fahrenheit\n",
      "4 - Fahrenheit to Celsius\n"
     ]
    }
   ],
   "source": [
    "print (\"Temperature converter\")\n",
    "print (\"Conversion options\")\n",
    "print (\"1 - Celsius to Kelvin\")\n",
    "print (\"2 - Kelvin to Celsius\")\n",
    "print (\"3 - Celsius to Fahrenheit\")\n",
    "print (\"4 - Fahrenheit to Celsius\")\n",
    "\n",
    "option = input(\"Choose a conversion (1-4): \")\n",
    "temp = float(input(\"Enter the temperature: \"))\n",
    "\n",
    "if option == \"1\":\n",
    "    converted = temp + 273.15\n",
    "    print(\"Result: \", round(converted, 2), \"K\")\n",
    "elif option == \"2\":\n",
    "elif option == \"3\":\n",
    "    converted = (temp * 9/5) + 32\n",
    "    print(\"Result: \", round(converted, 2), \"°F\")\n",
    "elif option == \"4\":\n",
    "    converted = (temp - 32) * 5/9\n",
    "    print(\"Result: \", round(converted, 2), \"°C\")\n",
    "else: \n",
    "    print(\"Invalid option.\")\n",
    "    converted = temp - 273.15\n",
    "    print(\"Result: \", round(converted, 2), \"°C\")\n"
   ]
  }
 ],
 "metadata": {
  "kernelspec": {
   "display_name": "Python [conda env:base] *",
   "language": "python",
   "name": "conda-base-py"
  },
  "language_info": {
   "codemirror_mode": {
    "name": "ipython",
    "version": 3
   },
   "file_extension": ".py",
   "mimetype": "text/x-python",
   "name": "python",
   "nbconvert_exporter": "python",
   "pygments_lexer": "ipython3",
   "version": "3.12.7"
  }
 },
 "nbformat": 4,
 "nbformat_minor": 5
}
